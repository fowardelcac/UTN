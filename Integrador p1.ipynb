{
 "cells": [
  {
   "cell_type": "markdown",
   "metadata": {},
   "source": [
    "# Menu de opciones"
   ]
  },
  {
   "cell_type": "markdown",
   "metadata": {},
   "source": [
    "Realizar un programa completo en Python, que a través de un menu de opciones, se permita\n",
    "ejecutar los siguientes puntos:\n",
    "\n",
    "    1.)  Ingresar el numero y el palo de tres cartas de las baraja española, puede usar valores\n",
    "    aleatorios para la #    carga de los datos. Determinar cual es el palo que obtuvo el mayor\n",
    "    valor numérico, determinar ademas cual es la suma de las tres cartas, por ultimo determinar\n",
    "    si los naipes son de distinto palo.\n",
    "\n",
    "    2.)  Ingresar un numero, validar que sea un valor positivo entre 1 y 9. Luego leer una\n",
    "    secuencia de números, la carga finaliza cundo el usuario ingresa un cero. Determinar el\n",
    "    promedio de los números que son múltiplos del numero ingresado, ademas determinar el\n",
    "    promedio general de los números leídos. Por ultimo mostrar un mensaje si el promedio\n",
    "    de los múltiplos es mayor o no al promedio general.\n",
    "\n",
    "    3. ) Terminar el programa."
   ]
  },
  {
   "cell_type": "markdown",
   "metadata": {},
   "source": [
    "En resumen: Hay que crear un menu de tres opciones, las cuales son:\n",
    "1) Ingresar N° y palo de tres cartas, det palo con mayor valor numerico, la suma de las cartas y si son de distinto palo,\n",
    "\n",
    "2) Ingresar un N°, validar si esta entre 1 y 9, luego ingresar una secuencia (termina en 0), det el promedio de los N° q son multiplos del ingresado, y promedio general, y mostrar si el promedio de multiplos es mayor o no al promedio\n",
    "\n",
    "3) Finalizar"
   ]
  },
  {
   "cell_type": "markdown",
   "metadata": {},
   "source": [
    "# Esqueleto de menu de opciones:\n"
   ]
  },
  {
   "cell_type": "markdown",
   "metadata": {},
   "source": [
    "\n",
    "opcion = int(input(\"Ingrese una opcion: \"))\n",
    "\n",
    "if opcion == 1:\n",
    "\n",
    "    print(\"Se eligio la opcion 1.\")\n",
    "\n",
    "elif opcion == 2:\n",
    "\n",
    "    print(\"Se eligio la opcion 1.\")\n",
    "\n",
    "elif opcion == 3:\n",
    "\n",
    "    print(\"Se eligio la opcion 1.\")\n",
    "        "
   ]
  },
  {
   "cell_type": "markdown",
   "metadata": {},
   "source": [
    "# Armo opcion 1."
   ]
  },
  {
   "cell_type": "code",
   "execution_count": 4,
   "metadata": {},
   "outputs": [
    {
     "name": "stdout",
     "output_type": "stream",
     "text": [
      "Menu de opciones\n",
      "--------------------------------------------------------------------------------\n",
      "1) Cartas.\n",
      "2) Numeros.\n",
      "3) Fin.\n",
      "Ingrese una opcion: 1\n",
      "Se eligio la opcion 1.\n",
      "--------------------------------------------------------------------------------\n",
      "La mayor carta es: 11\n",
      "La suma de las cartas es: 27\n",
      "Son el mismo palo.\n"
     ]
    }
   ],
   "source": [
    "#personalizcacion\n",
    "import random\n",
    "print(\"Menu de opciones\")\n",
    "print(\"-\" * 80)\n",
    "print(\"1) Cartas.\")\n",
    "print(\"2) Numeros.\")\n",
    "print(\"3) Fin.\")\n",
    "    \n",
    "#Elegir opcion\n",
    "op = int(input(\"Ingrese una opcion: \"))\n",
    "    \n",
    "if op == 1:\n",
    "    print(\"Se eligio la opcion 1.\")\n",
    "    print(\"-\" * 80)\n",
    "    \n",
    "    #Armado carta\n",
    "    palo = \"Oro\", \"Espada\", \"Basto\", \"Copa\"\n",
    "        \n",
    "    carta1 = random.randint(1, 12)\n",
    "    carta11 = random.choice(palo)\n",
    "        \n",
    "    carta2 = random.randint(1, 12)\n",
    "    carta22 = random.choice(palo)\n",
    "        \n",
    "    carta3 = random.randint(1, 12)\n",
    "    carta33 = random.choice(palo)\n",
    "    \n",
    "    #Condiciones\n",
    "    if carta1 > carta2 and carta1 > carta3:\n",
    "        may = carta1\n",
    "        \n",
    "    elif carta2 > carta3:\n",
    "        may = carta2\n",
    "        \n",
    "    else:\n",
    "        may = carta3\n",
    "        \n",
    "    suma = carta1 + carta2 + carta3\n",
    "    dist = carta11 != carta22 != carta33\n",
    "    \n",
    "    print(\"La mayor carta es:\", may)\n",
    "    print(\"La suma de las cartas es:\", suma)\n",
    "        \n",
    "    if dist == True:\n",
    "        print(\"Son de distinto palo\")\n",
    "    else: \n",
    "        print(\"Son el mismo palo.\")"
   ]
  },
  {
   "cell_type": "markdown",
   "metadata": {},
   "source": [
    "Primero pongo la personalizacion, despues un input para elegir la opcion. Entonces si op == 1 entra,\n",
    "Creo una tupla con los palos, luego utilizo random para que tire un N° aleatorio del 1 al 12, lo mismo\n",
    "para elegir el palo de la carta, pero con random.choice.\n",
    "Despues armo todas las condiciones qu epide el ejercicio. Busco la carta mayor, despues las sumo,\n",
    "y por ultimo corroboro que sean todas de distinto palo, para finalizar imprimo resultados."
   ]
  },
  {
   "cell_type": "markdown",
   "metadata": {},
   "source": [
    "# Armado opcion 2."
   ]
  },
  {
   "cell_type": "code",
   "execution_count": 7,
   "metadata": {},
   "outputs": [
    {
     "name": "stdout",
     "output_type": "stream",
     "text": [
      "Ingrese una opcion: 2\n",
      "Se eligio la opcion 2.\n",
      "--------------------------------------------------------------------------------\n",
      "Ingrese un N° del 1 - 9.3\n",
      "El multiplo es: 3\n",
      "Ingrese un N°, (termina en 0):2\n"
     ]
    },
    {
     "ename": "KeyboardInterrupt",
     "evalue": "",
     "output_type": "error",
     "traceback": [
      "\u001b[1;31m---------------------------------------------------------------------------\u001b[0m",
      "\u001b[1;31mKeyboardInterrupt\u001b[0m                         Traceback (most recent call last)",
      "\u001b[1;32m<ipython-input-7-e566cbd3f54a>\u001b[0m in \u001b[0;36m<module>\u001b[1;34m\u001b[0m\n\u001b[0;32m     17\u001b[0m     \u001b[0mn\u001b[0m  \u001b[1;33m=\u001b[0m \u001b[0mint\u001b[0m\u001b[1;33m(\u001b[0m\u001b[0minput\u001b[0m\u001b[1;33m(\u001b[0m\u001b[1;34m\"Ingrese un N°, (termina en 0):\"\u001b[0m\u001b[1;33m)\u001b[0m\u001b[1;33m)\u001b[0m\u001b[1;33m\u001b[0m\u001b[1;33m\u001b[0m\u001b[0m\n\u001b[0;32m     18\u001b[0m     \u001b[1;32mwhile\u001b[0m \u001b[0mn\u001b[0m \u001b[1;33m!=\u001b[0m \u001b[1;36m0\u001b[0m\u001b[1;33m:\u001b[0m\u001b[1;33m\u001b[0m\u001b[1;33m\u001b[0m\u001b[0m\n\u001b[1;32m---> 19\u001b[1;33m         \u001b[0macu\u001b[0m \u001b[1;33m+=\u001b[0m \u001b[0mn\u001b[0m\u001b[1;33m\u001b[0m\u001b[1;33m\u001b[0m\u001b[0m\n\u001b[0m\u001b[0;32m     20\u001b[0m         \u001b[0mcont\u001b[0m \u001b[1;33m+=\u001b[0m \u001b[1;36m1\u001b[0m\u001b[1;33m\u001b[0m\u001b[1;33m\u001b[0m\u001b[0m\n\u001b[0;32m     21\u001b[0m \u001b[1;33m\u001b[0m\u001b[0m\n",
      "\u001b[1;31mKeyboardInterrupt\u001b[0m: "
     ]
    }
   ],
   "source": [
    "op = int(input(\"Ingrese una opcion: \"))\n",
    "\n",
    "if op == 2:\n",
    "    print(\"Se eligio la opcion 2.\")\n",
    "    print(\"-\" * 80)\n",
    "        \n",
    "    #1 parte    \n",
    "    mult = int(input(\"Ingrese un N° del 1 - 9.\"))\n",
    "    while mult < 1 or mult > 9:\n",
    "        mult = int(input(\"Ingrese un N° del 1 - 9.\"))\n",
    "    print(\"El multiplo es:\", mult)\n",
    "        \n",
    "    #2da parte\n",
    "    acu, acum = 0, 0\n",
    "    cont, contm = 0, 0\n",
    "        \n",
    "    n  = int(input(\"Ingrese un N°, (termina en 0):\"))\n",
    "    while n != 0:\n",
    "        acu += n\n",
    "        cont += 1\n",
    "            \n",
    "    #Para saber si es multiplo el resto = 0, \n",
    "    if n % mult == 0:\n",
    "        contm += 1\n",
    "        acum += n\n",
    "        \n",
    "        #Reinicio ciclo\n",
    "        n  = int(input(\"Ingrese un N°, (termina en 0):\"))\n",
    "        \n",
    "    prom_gen = 0\n",
    "    if cont > 0:\n",
    "        prom_gen = round(acu / cont, 2)\n",
    "        print(\"El promedio general es:\", prom_gen)\n",
    "            \n",
    "        prom_mu = 0\n",
    "        if prom_mu > 0:\n",
    "            prom_mu = round(acum / contm, 2)\n",
    "            print(\"El promedio del mutliplo es:\", prom_mu)\n",
    "        if prom_mu > prom_gen:\n",
    "            print(f\"El promedio de los multpilos ({prom_mu}), es mayor al general ({prom_gen}).\")"
   ]
  },
  {
   "cell_type": "markdown",
   "metadata": {},
   "source": [
    "Aca en la opcion dos hay dos problemas. Primero me pide primero ingresar y validar un N° entre 1 y 9,\n",
    "luego ingresar una secuenci que termina si = 0. Con esta secuencia tengo que sacar un promedio de los valores\n",
    "ingresas mas otro de los que son multiplos de la parte 1. Para finalizar tengo que saber si el promedio\n",
    "de los mutliplos es > al general. Imprimo resultados\n"
   ]
  },
  {
   "cell_type": "markdown",
   "metadata": {},
   "source": [
    "# Armado opcion 3 "
   ]
  },
  {
   "cell_type": "code",
   "execution_count": 1,
   "metadata": {},
   "outputs": [
    {
     "name": "stdout",
     "output_type": "stream",
     "text": [
      "Ingresa una opcion: 3\n",
      "Se eligio la opcion 3.\n",
      "--------------------------------------------------------------------------------\n",
      "Finalizo el programa.\n"
     ]
    }
   ],
   "source": [
    "op = int(input(\"Ingresa una opcion: \"))\n",
    "if op == 3:\n",
    "    print(\"Se eligio la opcion 3.\")\n",
    "    print(\"-\" * 80)\n",
    "    print(\"Finalizo el programa.\")"
   ]
  },
  {
   "cell_type": "markdown",
   "metadata": {},
   "source": [
    "La opcion tres finaliza el programa."
   ]
  },
  {
   "cell_type": "markdown",
   "metadata": {},
   "source": [
    "#                                            Script final"
   ]
  },
  {
   "cell_type": "code",
   "execution_count": 2,
   "metadata": {},
   "outputs": [
    {
     "name": "stdout",
     "output_type": "stream",
     "text": [
      "Menu de opciones\n",
      "--------------------------------------------------------------------------------\n",
      "1) Cartas.\n",
      "2) Numeros.\n",
      "3) Fin.\n",
      "Ingrese una opcion: 1\n",
      "Se eligio la opcion 1.\n",
      "--------------------------------------------------------------------------------\n",
      "La mayor carta es: 12\n",
      "La suma de las cartas es: 21\n",
      "Son el mismo palo.\n",
      "Menu de opciones\n",
      "--------------------------------------------------------------------------------\n",
      "1) Cartas.\n",
      "2) Numeros.\n",
      "3) Fin.\n",
      "Ingrese una opcion: 2\n",
      "Se eligio la opcion 2.\n",
      "--------------------------------------------------------------------------------\n",
      "Ingrese un N° del 1 - 9.3\n",
      "El multiplo es: 3\n",
      "Ingrese un N°, (termina en 0):15\n",
      "Ingrese un N°, (termina en 0):4\n",
      "Ingrese un N°, (termina en 0):55\n",
      "Ingrese un N°, (termina en 0):0\n",
      "El promedio general es: 24.67\n",
      "Menu de opciones\n",
      "--------------------------------------------------------------------------------\n",
      "1) Cartas.\n",
      "2) Numeros.\n",
      "3) Fin.\n",
      "Ingrese una opcion: 3\n",
      "Se eligio la opcion 3.\n",
      "--------------------------------------------------------------------------------\n",
      "Finalizo el programa.\n"
     ]
    }
   ],
   "source": [
    "import random #Importo libreria \n",
    "_autor_ = \"Saldaño Juan Cruz\"\n",
    "\n",
    "op = None\n",
    "while op != 3:\n",
    "    print(\"Menu de opciones\")\n",
    "    print(\"-\" * 80)\n",
    "    print(\"1) Cartas.\")\n",
    "    print(\"2) Numeros.\")\n",
    "    print(\"3) Fin.\")\n",
    "    \n",
    "    op = int(input(\"Ingrese una opcion: \"))\n",
    "    \n",
    "    if op == 1:\n",
    "        print(\"Se eligio la opcion 1.\")\n",
    "        print(\"-\" * 80)\n",
    "        \n",
    "        palo = \"Oro\", \"Espada\", \"Basto\", \"Copa\"\n",
    "        \n",
    "        carta1 = random.randint(1, 12)\n",
    "        carta11 = random.choice(palo)\n",
    "        \n",
    "        carta2 = random.randint(1, 12)\n",
    "        carta22 = random.choice(palo)\n",
    "        \n",
    "        carta3 = random.randint(1, 12)\n",
    "        carta33 = random.choice(palo)\n",
    "        \n",
    "        if carta1 > carta2 and carta1 > carta3:\n",
    "            may = carta1\n",
    "        \n",
    "        elif carta2 > carta3:\n",
    "            may = carta2\n",
    "        \n",
    "        else:\n",
    "            may = carta3\n",
    "        \n",
    "        suma = carta1 + carta2 + carta3\n",
    "        dist = carta11 != carta22 != carta33\n",
    "    \n",
    "        print(\"La mayor carta es:\", may)\n",
    "        print(\"La suma de las cartas es:\", suma)\n",
    "        \n",
    "        if dist == True:\n",
    "            print(\"Son de distinto palo\")\n",
    "        else: \n",
    "            print(\"Son el mismo palo.\")\n",
    "            \n",
    "    elif op == 2:\n",
    "        print(\"Se eligio la opcion 2.\")\n",
    "        print(\"-\" * 80)\n",
    "        \n",
    "        #1 parte\n",
    "        \n",
    "        mult = int(input(\"Ingrese un N° del 1 - 9.\"))\n",
    "        while mult < 1 or mult > 9:\n",
    "            mult = int(input(\"Ingrese un N° del 1 - 9.\"))\n",
    "        print(\"El multiplo es:\", mult)\n",
    "        \n",
    "        #2da parte\n",
    "        \n",
    "        acu, acum = 0, 0\n",
    "        cont, contm = 0, 0\n",
    "        \n",
    "        n  = int(input(\"Ingrese un N°, (termina en 0):\"))\n",
    "        while n != 0:\n",
    "            acu += n\n",
    "            cont += 1\n",
    "            \n",
    "            #Para saber si es multiplo el resto = 0, \n",
    "            if n % mult == 0:\n",
    "                contm += 1\n",
    "                acum += n\n",
    "                \n",
    "            n  = int(input(\"Ingrese un N°, (termina en 0):\"))\n",
    "        \n",
    "        prom_gen = 0\n",
    "        if cont > 0:\n",
    "            prom_gen = round(acu / cont, 2)\n",
    "            print(\"El promedio general es:\", prom_gen)\n",
    "            \n",
    "            prom_mu = 0\n",
    "            if prom_mu > 0:\n",
    "                prom_mu = round(acum / contm, 2)\n",
    "                print(\"El promedio del mutliplo es:\", prom_mu)\n",
    "            if prom_mu > prom_gen:\n",
    "                print(f\"El promedio de los multpilos ({prom_mu}), es mayor al general ({prom_gen}).\")\n",
    "            \n",
    "    elif op == 3:\n",
    "        print(\"Se eligio la opcion 3.\")\n",
    "        print(\"-\" * 80)\n",
    "        print(\"Finalizo el programa.\")\n",
    "    \n",
    "    else:\n",
    "        print(\"Error!!!\")\n",
    "        print(\"-\" * 80)"
   ]
  }
 ],
 "metadata": {
  "kernelspec": {
   "display_name": "Python 3",
   "language": "python",
   "name": "python3"
  },
  "language_info": {
   "codemirror_mode": {
    "name": "ipython",
    "version": 3
   },
   "file_extension": ".py",
   "mimetype": "text/x-python",
   "name": "python",
   "nbconvert_exporter": "python",
   "pygments_lexer": "ipython3",
   "version": "3.8.5"
  }
 },
 "nbformat": 4,
 "nbformat_minor": 4
}
